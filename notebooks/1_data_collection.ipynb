{
 "cells": [
  {
   "cell_type": "markdown",
   "id": "28573fad",
   "metadata": {},
   "source": [
    "# Olist Product Recommendation System\n",
    "### Part 1 Data collection and Data Cleaning \n",
    "#### Author: Olabisi Sunmon | 10th April 2023\n",
    "\n",
    "### Problem Statement\n",
    "\n",
    "How can we create a customised product recommendation system using data analysis and machine learning techniques to help Olist customers discover new products and find relevant items for purchase, to boost revenue and customer purchase rates.\n",
    "\n",
    "-------\n",
    "In the notebook I will be importing the raw database from Kaggle and conducting cleaning.\n",
    "\n",
    "----------\n",
    "### Data Source \n",
    "\n",
    "The Olist Store provides a dataset of Brazilian ecommerce transactions, consisting of 100,000 orders from 2016 to 2018 made on various marketplaces in the country. This data consists of 8 tables with an extra dataset containing English translations.\n",
    "\n",
    "The Data can be sourced from;https://www.kaggle.com/datasets/olistbr/brazilian-ecommerce\n",
    "\n",
    "\n"
   ]
  },
  {
   "cell_type": "code",
   "execution_count": 1,
   "id": "21e7807a",
   "metadata": {},
   "outputs": [],
   "source": [
    "#Import packages \n",
    "import numpy as np\n",
    "import pandas as pd\n",
    "import joblib "
   ]
  },
  {
   "cell_type": "markdown",
   "id": "76c667a8",
   "metadata": {},
   "source": [
    "#### Import Files that have been downloaded from Kaggle."
   ]
  },
  {
   "cell_type": "code",
   "execution_count": 2,
   "id": "8052d75a",
   "metadata": {},
   "outputs": [],
   "source": [
    "# Load the Data\n",
    "df_main = pd.read_csv('data/raw/olist_orders_dataset.csv')\n",
    "df_customer = pd.read_csv('data/raw/olist_customers_dataset.csv')\n",
    "df_geo = pd.read_csv('data/raw/olist_geolocation_dataset.csv')\n",
    "df_items = pd.read_csv('data/raw/olist_order_items_dataset.csv')\n",
    "df_payments = pd.read_csv('data/raw/olist_order_payments_dataset.csv')\n",
    "df_reviews = pd.read_csv('data/raw/olist_order_reviews_dataset.csv')\n",
    "df_products = pd.read_csv('data/raw/olist_products_dataset.csv')\n",
    "df_sellers = pd.read_csv('data/raw/olist_sellers_dataset.csv')\n",
    "df_product_English = pd.read_csv('data/raw/product_category_name_translation.csv')"
   ]
  },
  {
   "cell_type": "markdown",
   "id": "64d0b1b3",
   "metadata": {},
   "source": [
    "### Data Dictionary\n",
    "\n",
    "---\n",
    "\n",
    "**Customer Data :**\n",
    "\n",
    "Column Name | Data Description | Data Type |\n",
    "---------------- |-----------       |-------    \n",
    "`customer_id` | key to the orders dataset. Each order has a unique customer_id      | Categorical     \n",
    "`customer_unique_id`    | unique identifier of a customer.      | Categorical  \n",
    "`customer_zip_code` | first five digits of customer zip code | Numeric\n",
    "`customer_city` | customer city name | Categorical \n",
    "`customer_state` | customer state | Categorical \n",
    "\n",
    "\n",
    "**Geo Data :**\n",
    "\n",
    "Column Name | Data Description | Data Type |\n",
    "---------------- |-----------       |-------    \n",
    "`geolocation_zip_code_prefix` | latitude    | Numeric     \n",
    "`geolocation_lat`    | longitude     | Numeric \n",
    "`geolocation_lng` | first five digits of customer zip code | Numeric\n",
    "`geolocation_city` | city name | Categorical \n",
    "`geolocation_state` | state| Categorical \n",
    "\n",
    "\n",
    "**Items Data:**\n",
    "\n",
    "Column Name | Data Description | Data Type |\n",
    "---------------- |-----------       |-------    \n",
    "`order_id` | order unique identifier   | Categorical     \n",
    "`order_item_id`    | sequential number identifying number of items included in the same order.    | Numeric \n",
    "`product_id` | product unique identifier | Categorical  \n",
    "`seller_id` | seller unique identifier | Categorical \n",
    "`shipping_limit_date` | Shows the seller shipping limit date for handling the order over to the logistic partner.| Categorical \n",
    "`price` | item price | Numeric \n",
    "`freight_value` |item freight value item (if an order has more than one item the freight value is splitted between items).|  Numeric \n",
    "\n",
    "\n",
    "**Payment Data :**\n",
    "\n",
    "Column Name | Data Description | Data Type |\n",
    "---------------- |-----------       |-------    \n",
    "`order_id` | unique identifier of an order.    | Categorical    \n",
    "`payment_sequential`    | a customer may pay an order with more than one payment method. If he does so, a sequence will be created to accommodate all     | Numeric \n",
    "`payment_type` | first five digits of customer zip code | Numeric\n",
    "`payment_installments` | number of installments chosen by the customer. | Numeric\n",
    "`payment_value` | transaction value.| Numeric\n",
    "\n",
    "\n",
    "**Reviews Data:**\n",
    "\n",
    "Column Name | Data Description | Data Type |\n",
    "---------------- |-----------       |-------    \n",
    "`review_id` | unique review identifier.   | Categorical     \n",
    "`order_id`    | unique order identifier.    | Categorical \n",
    "`review_score`    | Note ranging from 1 to 5 given by the customer on a satisfaction survey.   | Numeric \n",
    "`review_comment_title` | Comment title from the review left by the customer, in Portuguese. | Categorical\n",
    "`review_comment_message` | Comment message from the review left by the customer, in Portuguese. | Categorical \n",
    "`review_creation_date` | Shows the date in which the satisfaction survey was sent to the customer.| Numeric \n",
    "`review_answer_timestamp` | Shows satisfaction survey answer timestamp. | Numeric \n",
    "\n",
    "\n",
    "**Main Data :**\n",
    "\n",
    "Column Name | Data Description | Data Type |\n",
    "---------------- |-----------       |-------    \n",
    "`order_id` | unique identifier of an order.    | Categorical    \n",
    "`customer_id`    | key to the customer dataset. Each order has a unique customer_id.  | Categorical  \n",
    "`order_status` | Reference to the order status (delivered, shipped, etc). | Categorical  \n",
    "`order_purchase_timestamp` | Shows the purchase timestamp. | Numeric\n",
    "`order_approved_at` | Shows the payment approval timestamp.| Numeric\n",
    "`order_delivered_carrier_date` | Shows the order posting timestamp. When it was handled to the logistic partner. | Numeric\n",
    "`order_delivered_customer_date` | Shows the actual order delivery date to the customer.| Numeric\n",
    "`order_estimated_delivery_date` |Shows the estimated delivery date that was informed to customer at the purchase moment.| Numeric\n",
    "\n",
    "**Product Data :**\n",
    "\n",
    "Column Name | Data Description | Data Type |\n",
    "---------------- |-----------       |-------    \n",
    "`product_id` | unique product identifier.   | Categorical    \n",
    "`product_category_name`    | root category of product, in Portuguese.    | Categorical   \n",
    "`Product_name_lenght` | number of characters extracted from the product name. | Numeric\n",
    "`product_description_lenght` | number of characters extracted from the product description. | Numeric\n",
    "`product_photos_qty` | number of product published photos| Numeric\n",
    "`product_weight_g` | product weight measured in grams. | Numeric\n",
    "`product_length_cm` | `product_length_cm` | number of characters extracted from the product description. | Numeric\n",
    "`product_height_cm` | product height measured in centimeters.| Numeric\n",
    "`product_width_cm` | product width measured in centimeters.| Numeric\n",
    "\n",
    "**Sellers Data :**\n",
    "\n",
    "Column Name | Data Description | Data Type |\n",
    "---------------- |-----------       |-------    \n",
    "`seller_id` | seller unique identifier   | Categorical    \n",
    "`seller_zip_code_prefix`    |first 5 digits of seller zip code    | Numeric \n",
    "`seller_city` | seller city name| Categorical\n",
    "`seller_state` | seller state | Categorical\n",
    "\n",
    "**Product English Data :**\n",
    "\n",
    "Column Name | Data Description | Data Type |\n",
    "---------------- |-----------       |-------    \n",
    "`product_category_name` | category name in Portuguese   | Categorical    \n",
    "`product_category_name_english`    |category name in English   | Categorical    \n",
    "\n",
    "\n"
   ]
  },
  {
   "cell_type": "markdown",
   "id": "0796db69",
   "metadata": {},
   "source": [
    "### Inspecting and cleaning Data "
   ]
  },
  {
   "cell_type": "code",
   "execution_count": 3,
   "id": "36c52b2d",
   "metadata": {},
   "outputs": [],
   "source": [
    "#Function to review dataframes\n",
    "def data_overview(df):\n",
    "\n",
    "    display(df.head())\n",
    "    print(df.info())\n",
    "    print('')\n",
    "    print(\"NA's present in the DF per column:\")\n",
    "    print('')\n",
    "    print(df.isna().sum())\n",
    "    display(f'There are {df.duplicated().sum()} duplicated rows')\n",
    "    display(f'The shape of the DF is {df.shape}')\n",
    "   "
   ]
  },
  {
   "cell_type": "code",
   "execution_count": 4,
   "id": "f225bf30",
   "metadata": {
    "scrolled": false
   },
   "outputs": [
    {
     "data": {
      "text/html": [
       "<div>\n",
       "<style scoped>\n",
       "    .dataframe tbody tr th:only-of-type {\n",
       "        vertical-align: middle;\n",
       "    }\n",
       "\n",
       "    .dataframe tbody tr th {\n",
       "        vertical-align: top;\n",
       "    }\n",
       "\n",
       "    .dataframe thead th {\n",
       "        text-align: right;\n",
       "    }\n",
       "</style>\n",
       "<table border=\"1\" class=\"dataframe\">\n",
       "  <thead>\n",
       "    <tr style=\"text-align: right;\">\n",
       "      <th></th>\n",
       "      <th>order_id</th>\n",
       "      <th>customer_id</th>\n",
       "      <th>order_status</th>\n",
       "      <th>order_purchase_timestamp</th>\n",
       "      <th>order_approved_at</th>\n",
       "      <th>order_delivered_carrier_date</th>\n",
       "      <th>order_delivered_customer_date</th>\n",
       "      <th>order_estimated_delivery_date</th>\n",
       "    </tr>\n",
       "  </thead>\n",
       "  <tbody>\n",
       "    <tr>\n",
       "      <th>0</th>\n",
       "      <td>e481f51cbdc54678b7cc49136f2d6af7</td>\n",
       "      <td>9ef432eb6251297304e76186b10a928d</td>\n",
       "      <td>delivered</td>\n",
       "      <td>2017-10-02 10:56:33</td>\n",
       "      <td>2017-10-02 11:07:15</td>\n",
       "      <td>2017-10-04 19:55:00</td>\n",
       "      <td>2017-10-10 21:25:13</td>\n",
       "      <td>2017-10-18 00:00:00</td>\n",
       "    </tr>\n",
       "    <tr>\n",
       "      <th>1</th>\n",
       "      <td>53cdb2fc8bc7dce0b6741e2150273451</td>\n",
       "      <td>b0830fb4747a6c6d20dea0b8c802d7ef</td>\n",
       "      <td>delivered</td>\n",
       "      <td>2018-07-24 20:41:37</td>\n",
       "      <td>2018-07-26 03:24:27</td>\n",
       "      <td>2018-07-26 14:31:00</td>\n",
       "      <td>2018-08-07 15:27:45</td>\n",
       "      <td>2018-08-13 00:00:00</td>\n",
       "    </tr>\n",
       "    <tr>\n",
       "      <th>2</th>\n",
       "      <td>47770eb9100c2d0c44946d9cf07ec65d</td>\n",
       "      <td>41ce2a54c0b03bf3443c3d931a367089</td>\n",
       "      <td>delivered</td>\n",
       "      <td>2018-08-08 08:38:49</td>\n",
       "      <td>2018-08-08 08:55:23</td>\n",
       "      <td>2018-08-08 13:50:00</td>\n",
       "      <td>2018-08-17 18:06:29</td>\n",
       "      <td>2018-09-04 00:00:00</td>\n",
       "    </tr>\n",
       "    <tr>\n",
       "      <th>3</th>\n",
       "      <td>949d5b44dbf5de918fe9c16f97b45f8a</td>\n",
       "      <td>f88197465ea7920adcdbec7375364d82</td>\n",
       "      <td>delivered</td>\n",
       "      <td>2017-11-18 19:28:06</td>\n",
       "      <td>2017-11-18 19:45:59</td>\n",
       "      <td>2017-11-22 13:39:59</td>\n",
       "      <td>2017-12-02 00:28:42</td>\n",
       "      <td>2017-12-15 00:00:00</td>\n",
       "    </tr>\n",
       "    <tr>\n",
       "      <th>4</th>\n",
       "      <td>ad21c59c0840e6cb83a9ceb5573f8159</td>\n",
       "      <td>8ab97904e6daea8866dbdbc4fb7aad2c</td>\n",
       "      <td>delivered</td>\n",
       "      <td>2018-02-13 21:18:39</td>\n",
       "      <td>2018-02-13 22:20:29</td>\n",
       "      <td>2018-02-14 19:46:34</td>\n",
       "      <td>2018-02-16 18:17:02</td>\n",
       "      <td>2018-02-26 00:00:00</td>\n",
       "    </tr>\n",
       "  </tbody>\n",
       "</table>\n",
       "</div>"
      ],
      "text/plain": [
       "                           order_id                       customer_id  \\\n",
       "0  e481f51cbdc54678b7cc49136f2d6af7  9ef432eb6251297304e76186b10a928d   \n",
       "1  53cdb2fc8bc7dce0b6741e2150273451  b0830fb4747a6c6d20dea0b8c802d7ef   \n",
       "2  47770eb9100c2d0c44946d9cf07ec65d  41ce2a54c0b03bf3443c3d931a367089   \n",
       "3  949d5b44dbf5de918fe9c16f97b45f8a  f88197465ea7920adcdbec7375364d82   \n",
       "4  ad21c59c0840e6cb83a9ceb5573f8159  8ab97904e6daea8866dbdbc4fb7aad2c   \n",
       "\n",
       "  order_status order_purchase_timestamp    order_approved_at  \\\n",
       "0    delivered      2017-10-02 10:56:33  2017-10-02 11:07:15   \n",
       "1    delivered      2018-07-24 20:41:37  2018-07-26 03:24:27   \n",
       "2    delivered      2018-08-08 08:38:49  2018-08-08 08:55:23   \n",
       "3    delivered      2017-11-18 19:28:06  2017-11-18 19:45:59   \n",
       "4    delivered      2018-02-13 21:18:39  2018-02-13 22:20:29   \n",
       "\n",
       "  order_delivered_carrier_date order_delivered_customer_date  \\\n",
       "0          2017-10-04 19:55:00           2017-10-10 21:25:13   \n",
       "1          2018-07-26 14:31:00           2018-08-07 15:27:45   \n",
       "2          2018-08-08 13:50:00           2018-08-17 18:06:29   \n",
       "3          2017-11-22 13:39:59           2017-12-02 00:28:42   \n",
       "4          2018-02-14 19:46:34           2018-02-16 18:17:02   \n",
       "\n",
       "  order_estimated_delivery_date  \n",
       "0           2017-10-18 00:00:00  \n",
       "1           2018-08-13 00:00:00  \n",
       "2           2018-09-04 00:00:00  \n",
       "3           2017-12-15 00:00:00  \n",
       "4           2018-02-26 00:00:00  "
      ]
     },
     "metadata": {},
     "output_type": "display_data"
    },
    {
     "name": "stdout",
     "output_type": "stream",
     "text": [
      "<class 'pandas.core.frame.DataFrame'>\n",
      "RangeIndex: 99441 entries, 0 to 99440\n",
      "Data columns (total 8 columns):\n",
      " #   Column                         Non-Null Count  Dtype \n",
      "---  ------                         --------------  ----- \n",
      " 0   order_id                       99441 non-null  object\n",
      " 1   customer_id                    99441 non-null  object\n",
      " 2   order_status                   99441 non-null  object\n",
      " 3   order_purchase_timestamp       99441 non-null  object\n",
      " 4   order_approved_at              99281 non-null  object\n",
      " 5   order_delivered_carrier_date   97658 non-null  object\n",
      " 6   order_delivered_customer_date  96476 non-null  object\n",
      " 7   order_estimated_delivery_date  99441 non-null  object\n",
      "dtypes: object(8)\n",
      "memory usage: 6.1+ MB\n",
      "None\n",
      "\n",
      "NA's present in the DF per column:\n",
      "\n",
      "order_id                            0\n",
      "customer_id                         0\n",
      "order_status                        0\n",
      "order_purchase_timestamp            0\n",
      "order_approved_at                 160\n",
      "order_delivered_carrier_date     1783\n",
      "order_delivered_customer_date    2965\n",
      "order_estimated_delivery_date       0\n",
      "dtype: int64\n"
     ]
    },
    {
     "data": {
      "text/plain": [
       "'There are 0 duplicated rows'"
      ]
     },
     "metadata": {},
     "output_type": "display_data"
    },
    {
     "data": {
      "text/plain": [
       "'The shape of the DF is (99441, 8)'"
      ]
     },
     "metadata": {},
     "output_type": "display_data"
    }
   ],
   "source": [
    "data_overview(df_main)"
   ]
  },
  {
   "cell_type": "markdown",
   "id": "f472e883",
   "metadata": {},
   "source": [
    "#### Convert to date time"
   ]
  },
  {
   "cell_type": "code",
   "execution_count": 5,
   "id": "ad5321c4",
   "metadata": {},
   "outputs": [],
   "source": [
    "df_main['order_purchase_timestamp'] = pd.to_datetime(df_main['order_purchase_timestamp'])\n",
    "df_main['order_approved_at'] = pd.to_datetime(df_main['order_approved_at'])\n",
    "df_main['order_delivered_carrier_date'] = pd.to_datetime(df_main['order_delivered_carrier_date'])\n",
    "df_main['order_delivered_customer_date'] = pd.to_datetime(df_main['order_delivered_customer_date'])\n",
    "df_main['order_estimated_delivery_date'] = pd.to_datetime(df_main['order_estimated_delivery_date'])\n",
    "\n"
   ]
  },
  {
   "cell_type": "code",
   "execution_count": 6,
   "id": "ba5d6a08",
   "metadata": {},
   "outputs": [
    {
     "name": "stdout",
     "output_type": "stream",
     "text": [
      "<class 'pandas.core.frame.DataFrame'>\n",
      "RangeIndex: 99441 entries, 0 to 99440\n",
      "Data columns (total 8 columns):\n",
      " #   Column                         Non-Null Count  Dtype         \n",
      "---  ------                         --------------  -----         \n",
      " 0   order_id                       99441 non-null  object        \n",
      " 1   customer_id                    99441 non-null  object        \n",
      " 2   order_status                   99441 non-null  object        \n",
      " 3   order_purchase_timestamp       99441 non-null  datetime64[ns]\n",
      " 4   order_approved_at              99281 non-null  datetime64[ns]\n",
      " 5   order_delivered_carrier_date   97658 non-null  datetime64[ns]\n",
      " 6   order_delivered_customer_date  96476 non-null  datetime64[ns]\n",
      " 7   order_estimated_delivery_date  99441 non-null  datetime64[ns]\n",
      "dtypes: datetime64[ns](5), object(3)\n",
      "memory usage: 6.1+ MB\n"
     ]
    }
   ],
   "source": [
    "#Addressing Na's \n",
    "df_main.info()"
   ]
  },
  {
   "cell_type": "markdown",
   "id": "1c0ed054",
   "metadata": {},
   "source": [
    "df_main have a significant number of missing values, as I do not need these columns for analysis or modeling I will drop them"
   ]
  },
  {
   "cell_type": "code",
   "execution_count": 7,
   "id": "a922e8b6",
   "metadata": {},
   "outputs": [],
   "source": [
    "df_main = df_main.drop(['order_approved_at','order_delivered_carrier_date','order_delivered_customer_date','order_estimated_delivery_date'], axis=1)"
   ]
  },
  {
   "cell_type": "code",
   "execution_count": 8,
   "id": "f47be2cc",
   "metadata": {
    "scrolled": true
   },
   "outputs": [
    {
     "data": {
      "text/html": [
       "<div>\n",
       "<style scoped>\n",
       "    .dataframe tbody tr th:only-of-type {\n",
       "        vertical-align: middle;\n",
       "    }\n",
       "\n",
       "    .dataframe tbody tr th {\n",
       "        vertical-align: top;\n",
       "    }\n",
       "\n",
       "    .dataframe thead th {\n",
       "        text-align: right;\n",
       "    }\n",
       "</style>\n",
       "<table border=\"1\" class=\"dataframe\">\n",
       "  <thead>\n",
       "    <tr style=\"text-align: right;\">\n",
       "      <th></th>\n",
       "      <th>customer_id</th>\n",
       "      <th>customer_unique_id</th>\n",
       "      <th>customer_zip_code_prefix</th>\n",
       "      <th>customer_city</th>\n",
       "      <th>customer_state</th>\n",
       "    </tr>\n",
       "  </thead>\n",
       "  <tbody>\n",
       "    <tr>\n",
       "      <th>0</th>\n",
       "      <td>06b8999e2fba1a1fbc88172c00ba8bc7</td>\n",
       "      <td>861eff4711a542e4b93843c6dd7febb0</td>\n",
       "      <td>14409</td>\n",
       "      <td>franca</td>\n",
       "      <td>SP</td>\n",
       "    </tr>\n",
       "    <tr>\n",
       "      <th>1</th>\n",
       "      <td>18955e83d337fd6b2def6b18a428ac77</td>\n",
       "      <td>290c77bc529b7ac935b93aa66c333dc3</td>\n",
       "      <td>9790</td>\n",
       "      <td>sao bernardo do campo</td>\n",
       "      <td>SP</td>\n",
       "    </tr>\n",
       "    <tr>\n",
       "      <th>2</th>\n",
       "      <td>4e7b3e00288586ebd08712fdd0374a03</td>\n",
       "      <td>060e732b5b29e8181a18229c7b0b2b5e</td>\n",
       "      <td>1151</td>\n",
       "      <td>sao paulo</td>\n",
       "      <td>SP</td>\n",
       "    </tr>\n",
       "    <tr>\n",
       "      <th>3</th>\n",
       "      <td>b2b6027bc5c5109e529d4dc6358b12c3</td>\n",
       "      <td>259dac757896d24d7702b9acbbff3f3c</td>\n",
       "      <td>8775</td>\n",
       "      <td>mogi das cruzes</td>\n",
       "      <td>SP</td>\n",
       "    </tr>\n",
       "    <tr>\n",
       "      <th>4</th>\n",
       "      <td>4f2d8ab171c80ec8364f7c12e35b23ad</td>\n",
       "      <td>345ecd01c38d18a9036ed96c73b8d066</td>\n",
       "      <td>13056</td>\n",
       "      <td>campinas</td>\n",
       "      <td>SP</td>\n",
       "    </tr>\n",
       "  </tbody>\n",
       "</table>\n",
       "</div>"
      ],
      "text/plain": [
       "                        customer_id                customer_unique_id  \\\n",
       "0  06b8999e2fba1a1fbc88172c00ba8bc7  861eff4711a542e4b93843c6dd7febb0   \n",
       "1  18955e83d337fd6b2def6b18a428ac77  290c77bc529b7ac935b93aa66c333dc3   \n",
       "2  4e7b3e00288586ebd08712fdd0374a03  060e732b5b29e8181a18229c7b0b2b5e   \n",
       "3  b2b6027bc5c5109e529d4dc6358b12c3  259dac757896d24d7702b9acbbff3f3c   \n",
       "4  4f2d8ab171c80ec8364f7c12e35b23ad  345ecd01c38d18a9036ed96c73b8d066   \n",
       "\n",
       "   customer_zip_code_prefix          customer_city customer_state  \n",
       "0                     14409                 franca             SP  \n",
       "1                      9790  sao bernardo do campo             SP  \n",
       "2                      1151              sao paulo             SP  \n",
       "3                      8775        mogi das cruzes             SP  \n",
       "4                     13056               campinas             SP  "
      ]
     },
     "metadata": {},
     "output_type": "display_data"
    },
    {
     "name": "stdout",
     "output_type": "stream",
     "text": [
      "<class 'pandas.core.frame.DataFrame'>\n",
      "RangeIndex: 99441 entries, 0 to 99440\n",
      "Data columns (total 5 columns):\n",
      " #   Column                    Non-Null Count  Dtype \n",
      "---  ------                    --------------  ----- \n",
      " 0   customer_id               99441 non-null  object\n",
      " 1   customer_unique_id        99441 non-null  object\n",
      " 2   customer_zip_code_prefix  99441 non-null  int64 \n",
      " 3   customer_city             99441 non-null  object\n",
      " 4   customer_state            99441 non-null  object\n",
      "dtypes: int64(1), object(4)\n",
      "memory usage: 3.8+ MB\n",
      "None\n",
      "\n",
      "NA's present in the DF per column:\n",
      "\n",
      "customer_id                 0\n",
      "customer_unique_id          0\n",
      "customer_zip_code_prefix    0\n",
      "customer_city               0\n",
      "customer_state              0\n",
      "dtype: int64\n"
     ]
    },
    {
     "data": {
      "text/plain": [
       "'There are 0 duplicated rows'"
      ]
     },
     "metadata": {},
     "output_type": "display_data"
    },
    {
     "data": {
      "text/plain": [
       "'The shape of the DF is (99441, 5)'"
      ]
     },
     "metadata": {},
     "output_type": "display_data"
    }
   ],
   "source": [
    "data_overview(df_customer)"
   ]
  },
  {
   "cell_type": "markdown",
   "id": "269209a6",
   "metadata": {},
   "source": [
    "No cleaning necessary for df_customer."
   ]
  },
  {
   "cell_type": "code",
   "execution_count": 9,
   "id": "ea5888e0",
   "metadata": {},
   "outputs": [
    {
     "data": {
      "text/html": [
       "<div>\n",
       "<style scoped>\n",
       "    .dataframe tbody tr th:only-of-type {\n",
       "        vertical-align: middle;\n",
       "    }\n",
       "\n",
       "    .dataframe tbody tr th {\n",
       "        vertical-align: top;\n",
       "    }\n",
       "\n",
       "    .dataframe thead th {\n",
       "        text-align: right;\n",
       "    }\n",
       "</style>\n",
       "<table border=\"1\" class=\"dataframe\">\n",
       "  <thead>\n",
       "    <tr style=\"text-align: right;\">\n",
       "      <th></th>\n",
       "      <th>geolocation_zip_code_prefix</th>\n",
       "      <th>geolocation_lat</th>\n",
       "      <th>geolocation_lng</th>\n",
       "      <th>geolocation_city</th>\n",
       "      <th>geolocation_state</th>\n",
       "    </tr>\n",
       "  </thead>\n",
       "  <tbody>\n",
       "    <tr>\n",
       "      <th>0</th>\n",
       "      <td>1037</td>\n",
       "      <td>-23.545621</td>\n",
       "      <td>-46.639292</td>\n",
       "      <td>sao paulo</td>\n",
       "      <td>SP</td>\n",
       "    </tr>\n",
       "    <tr>\n",
       "      <th>1</th>\n",
       "      <td>1046</td>\n",
       "      <td>-23.546081</td>\n",
       "      <td>-46.644820</td>\n",
       "      <td>sao paulo</td>\n",
       "      <td>SP</td>\n",
       "    </tr>\n",
       "    <tr>\n",
       "      <th>2</th>\n",
       "      <td>1046</td>\n",
       "      <td>-23.546129</td>\n",
       "      <td>-46.642951</td>\n",
       "      <td>sao paulo</td>\n",
       "      <td>SP</td>\n",
       "    </tr>\n",
       "    <tr>\n",
       "      <th>3</th>\n",
       "      <td>1041</td>\n",
       "      <td>-23.544392</td>\n",
       "      <td>-46.639499</td>\n",
       "      <td>sao paulo</td>\n",
       "      <td>SP</td>\n",
       "    </tr>\n",
       "    <tr>\n",
       "      <th>4</th>\n",
       "      <td>1035</td>\n",
       "      <td>-23.541578</td>\n",
       "      <td>-46.641607</td>\n",
       "      <td>sao paulo</td>\n",
       "      <td>SP</td>\n",
       "    </tr>\n",
       "  </tbody>\n",
       "</table>\n",
       "</div>"
      ],
      "text/plain": [
       "   geolocation_zip_code_prefix  geolocation_lat  geolocation_lng  \\\n",
       "0                         1037       -23.545621       -46.639292   \n",
       "1                         1046       -23.546081       -46.644820   \n",
       "2                         1046       -23.546129       -46.642951   \n",
       "3                         1041       -23.544392       -46.639499   \n",
       "4                         1035       -23.541578       -46.641607   \n",
       "\n",
       "  geolocation_city geolocation_state  \n",
       "0        sao paulo                SP  \n",
       "1        sao paulo                SP  \n",
       "2        sao paulo                SP  \n",
       "3        sao paulo                SP  \n",
       "4        sao paulo                SP  "
      ]
     },
     "metadata": {},
     "output_type": "display_data"
    },
    {
     "name": "stdout",
     "output_type": "stream",
     "text": [
      "<class 'pandas.core.frame.DataFrame'>\n",
      "RangeIndex: 1000163 entries, 0 to 1000162\n",
      "Data columns (total 5 columns):\n",
      " #   Column                       Non-Null Count    Dtype  \n",
      "---  ------                       --------------    -----  \n",
      " 0   geolocation_zip_code_prefix  1000163 non-null  int64  \n",
      " 1   geolocation_lat              1000163 non-null  float64\n",
      " 2   geolocation_lng              1000163 non-null  float64\n",
      " 3   geolocation_city             1000163 non-null  object \n",
      " 4   geolocation_state            1000163 non-null  object \n",
      "dtypes: float64(2), int64(1), object(2)\n",
      "memory usage: 38.2+ MB\n",
      "None\n",
      "\n",
      "NA's present in the DF per column:\n",
      "\n",
      "geolocation_zip_code_prefix    0\n",
      "geolocation_lat                0\n",
      "geolocation_lng                0\n",
      "geolocation_city               0\n",
      "geolocation_state              0\n",
      "dtype: int64\n"
     ]
    },
    {
     "data": {
      "text/plain": [
       "'There are 261831 duplicated rows'"
      ]
     },
     "metadata": {},
     "output_type": "display_data"
    },
    {
     "data": {
      "text/plain": [
       "'The shape of the DF is (1000163, 5)'"
      ]
     },
     "metadata": {},
     "output_type": "display_data"
    }
   ],
   "source": [
    "data_overview(df_geo)"
   ]
  },
  {
   "cell_type": "markdown",
   "id": "90b42db0",
   "metadata": {},
   "source": [
    "I will Delete all 261831 duplications as no new infomation is gained by keeping the duplicates."
   ]
  },
  {
   "cell_type": "code",
   "execution_count": 10,
   "id": "4ba87ebf",
   "metadata": {},
   "outputs": [],
   "source": [
    "df_geo = df_geo.drop_duplicates()"
   ]
  },
  {
   "cell_type": "code",
   "execution_count": 11,
   "id": "4b74218b",
   "metadata": {},
   "outputs": [
    {
     "data": {
      "text/html": [
       "<div>\n",
       "<style scoped>\n",
       "    .dataframe tbody tr th:only-of-type {\n",
       "        vertical-align: middle;\n",
       "    }\n",
       "\n",
       "    .dataframe tbody tr th {\n",
       "        vertical-align: top;\n",
       "    }\n",
       "\n",
       "    .dataframe thead th {\n",
       "        text-align: right;\n",
       "    }\n",
       "</style>\n",
       "<table border=\"1\" class=\"dataframe\">\n",
       "  <thead>\n",
       "    <tr style=\"text-align: right;\">\n",
       "      <th></th>\n",
       "      <th>order_id</th>\n",
       "      <th>order_item_id</th>\n",
       "      <th>product_id</th>\n",
       "      <th>seller_id</th>\n",
       "      <th>shipping_limit_date</th>\n",
       "      <th>price</th>\n",
       "      <th>freight_value</th>\n",
       "    </tr>\n",
       "  </thead>\n",
       "  <tbody>\n",
       "    <tr>\n",
       "      <th>0</th>\n",
       "      <td>00010242fe8c5a6d1ba2dd792cb16214</td>\n",
       "      <td>1</td>\n",
       "      <td>4244733e06e7ecb4970a6e2683c13e61</td>\n",
       "      <td>48436dade18ac8b2bce089ec2a041202</td>\n",
       "      <td>2017-09-19 09:45:35</td>\n",
       "      <td>58.90</td>\n",
       "      <td>13.29</td>\n",
       "    </tr>\n",
       "    <tr>\n",
       "      <th>1</th>\n",
       "      <td>00018f77f2f0320c557190d7a144bdd3</td>\n",
       "      <td>1</td>\n",
       "      <td>e5f2d52b802189ee658865ca93d83a8f</td>\n",
       "      <td>dd7ddc04e1b6c2c614352b383efe2d36</td>\n",
       "      <td>2017-05-03 11:05:13</td>\n",
       "      <td>239.90</td>\n",
       "      <td>19.93</td>\n",
       "    </tr>\n",
       "    <tr>\n",
       "      <th>2</th>\n",
       "      <td>000229ec398224ef6ca0657da4fc703e</td>\n",
       "      <td>1</td>\n",
       "      <td>c777355d18b72b67abbeef9df44fd0fd</td>\n",
       "      <td>5b51032eddd242adc84c38acab88f23d</td>\n",
       "      <td>2018-01-18 14:48:30</td>\n",
       "      <td>199.00</td>\n",
       "      <td>17.87</td>\n",
       "    </tr>\n",
       "    <tr>\n",
       "      <th>3</th>\n",
       "      <td>00024acbcdf0a6daa1e931b038114c75</td>\n",
       "      <td>1</td>\n",
       "      <td>7634da152a4610f1595efa32f14722fc</td>\n",
       "      <td>9d7a1d34a5052409006425275ba1c2b4</td>\n",
       "      <td>2018-08-15 10:10:18</td>\n",
       "      <td>12.99</td>\n",
       "      <td>12.79</td>\n",
       "    </tr>\n",
       "    <tr>\n",
       "      <th>4</th>\n",
       "      <td>00042b26cf59d7ce69dfabb4e55b4fd9</td>\n",
       "      <td>1</td>\n",
       "      <td>ac6c3623068f30de03045865e4e10089</td>\n",
       "      <td>df560393f3a51e74553ab94004ba5c87</td>\n",
       "      <td>2017-02-13 13:57:51</td>\n",
       "      <td>199.90</td>\n",
       "      <td>18.14</td>\n",
       "    </tr>\n",
       "  </tbody>\n",
       "</table>\n",
       "</div>"
      ],
      "text/plain": [
       "                           order_id  order_item_id  \\\n",
       "0  00010242fe8c5a6d1ba2dd792cb16214              1   \n",
       "1  00018f77f2f0320c557190d7a144bdd3              1   \n",
       "2  000229ec398224ef6ca0657da4fc703e              1   \n",
       "3  00024acbcdf0a6daa1e931b038114c75              1   \n",
       "4  00042b26cf59d7ce69dfabb4e55b4fd9              1   \n",
       "\n",
       "                         product_id                         seller_id  \\\n",
       "0  4244733e06e7ecb4970a6e2683c13e61  48436dade18ac8b2bce089ec2a041202   \n",
       "1  e5f2d52b802189ee658865ca93d83a8f  dd7ddc04e1b6c2c614352b383efe2d36   \n",
       "2  c777355d18b72b67abbeef9df44fd0fd  5b51032eddd242adc84c38acab88f23d   \n",
       "3  7634da152a4610f1595efa32f14722fc  9d7a1d34a5052409006425275ba1c2b4   \n",
       "4  ac6c3623068f30de03045865e4e10089  df560393f3a51e74553ab94004ba5c87   \n",
       "\n",
       "   shipping_limit_date   price  freight_value  \n",
       "0  2017-09-19 09:45:35   58.90          13.29  \n",
       "1  2017-05-03 11:05:13  239.90          19.93  \n",
       "2  2018-01-18 14:48:30  199.00          17.87  \n",
       "3  2018-08-15 10:10:18   12.99          12.79  \n",
       "4  2017-02-13 13:57:51  199.90          18.14  "
      ]
     },
     "metadata": {},
     "output_type": "display_data"
    },
    {
     "name": "stdout",
     "output_type": "stream",
     "text": [
      "<class 'pandas.core.frame.DataFrame'>\n",
      "RangeIndex: 112650 entries, 0 to 112649\n",
      "Data columns (total 7 columns):\n",
      " #   Column               Non-Null Count   Dtype  \n",
      "---  ------               --------------   -----  \n",
      " 0   order_id             112650 non-null  object \n",
      " 1   order_item_id        112650 non-null  int64  \n",
      " 2   product_id           112650 non-null  object \n",
      " 3   seller_id            112650 non-null  object \n",
      " 4   shipping_limit_date  112650 non-null  object \n",
      " 5   price                112650 non-null  float64\n",
      " 6   freight_value        112650 non-null  float64\n",
      "dtypes: float64(2), int64(1), object(4)\n",
      "memory usage: 6.0+ MB\n",
      "None\n",
      "\n",
      "NA's present in the DF per column:\n",
      "\n",
      "order_id               0\n",
      "order_item_id          0\n",
      "product_id             0\n",
      "seller_id              0\n",
      "shipping_limit_date    0\n",
      "price                  0\n",
      "freight_value          0\n",
      "dtype: int64\n"
     ]
    },
    {
     "data": {
      "text/plain": [
       "'There are 0 duplicated rows'"
      ]
     },
     "metadata": {},
     "output_type": "display_data"
    },
    {
     "data": {
      "text/plain": [
       "'The shape of the DF is (112650, 7)'"
      ]
     },
     "metadata": {},
     "output_type": "display_data"
    }
   ],
   "source": [
    "data_overview(df_items)"
   ]
  },
  {
   "cell_type": "markdown",
   "id": "5d7b12b0",
   "metadata": {},
   "source": [
    "No cleaning necessary for df_items."
   ]
  },
  {
   "cell_type": "code",
   "execution_count": 12,
   "id": "68568164",
   "metadata": {},
   "outputs": [],
   "source": [
    "df_items['shipping_limit_date'] = pd.to_datetime(df_items['shipping_limit_date'])"
   ]
  },
  {
   "cell_type": "code",
   "execution_count": 13,
   "id": "93757a6a",
   "metadata": {
    "scrolled": true
   },
   "outputs": [
    {
     "data": {
      "text/html": [
       "<div>\n",
       "<style scoped>\n",
       "    .dataframe tbody tr th:only-of-type {\n",
       "        vertical-align: middle;\n",
       "    }\n",
       "\n",
       "    .dataframe tbody tr th {\n",
       "        vertical-align: top;\n",
       "    }\n",
       "\n",
       "    .dataframe thead th {\n",
       "        text-align: right;\n",
       "    }\n",
       "</style>\n",
       "<table border=\"1\" class=\"dataframe\">\n",
       "  <thead>\n",
       "    <tr style=\"text-align: right;\">\n",
       "      <th></th>\n",
       "      <th>order_id</th>\n",
       "      <th>payment_sequential</th>\n",
       "      <th>payment_type</th>\n",
       "      <th>payment_installments</th>\n",
       "      <th>payment_value</th>\n",
       "    </tr>\n",
       "  </thead>\n",
       "  <tbody>\n",
       "    <tr>\n",
       "      <th>0</th>\n",
       "      <td>b81ef226f3fe1789b1e8b2acac839d17</td>\n",
       "      <td>1</td>\n",
       "      <td>credit_card</td>\n",
       "      <td>8</td>\n",
       "      <td>99.33</td>\n",
       "    </tr>\n",
       "    <tr>\n",
       "      <th>1</th>\n",
       "      <td>a9810da82917af2d9aefd1278f1dcfa0</td>\n",
       "      <td>1</td>\n",
       "      <td>credit_card</td>\n",
       "      <td>1</td>\n",
       "      <td>24.39</td>\n",
       "    </tr>\n",
       "    <tr>\n",
       "      <th>2</th>\n",
       "      <td>25e8ea4e93396b6fa0d3dd708e76c1bd</td>\n",
       "      <td>1</td>\n",
       "      <td>credit_card</td>\n",
       "      <td>1</td>\n",
       "      <td>65.71</td>\n",
       "    </tr>\n",
       "    <tr>\n",
       "      <th>3</th>\n",
       "      <td>ba78997921bbcdc1373bb41e913ab953</td>\n",
       "      <td>1</td>\n",
       "      <td>credit_card</td>\n",
       "      <td>8</td>\n",
       "      <td>107.78</td>\n",
       "    </tr>\n",
       "    <tr>\n",
       "      <th>4</th>\n",
       "      <td>42fdf880ba16b47b59251dd489d4441a</td>\n",
       "      <td>1</td>\n",
       "      <td>credit_card</td>\n",
       "      <td>2</td>\n",
       "      <td>128.45</td>\n",
       "    </tr>\n",
       "  </tbody>\n",
       "</table>\n",
       "</div>"
      ],
      "text/plain": [
       "                           order_id  payment_sequential payment_type  \\\n",
       "0  b81ef226f3fe1789b1e8b2acac839d17                   1  credit_card   \n",
       "1  a9810da82917af2d9aefd1278f1dcfa0                   1  credit_card   \n",
       "2  25e8ea4e93396b6fa0d3dd708e76c1bd                   1  credit_card   \n",
       "3  ba78997921bbcdc1373bb41e913ab953                   1  credit_card   \n",
       "4  42fdf880ba16b47b59251dd489d4441a                   1  credit_card   \n",
       "\n",
       "   payment_installments  payment_value  \n",
       "0                     8          99.33  \n",
       "1                     1          24.39  \n",
       "2                     1          65.71  \n",
       "3                     8         107.78  \n",
       "4                     2         128.45  "
      ]
     },
     "metadata": {},
     "output_type": "display_data"
    },
    {
     "name": "stdout",
     "output_type": "stream",
     "text": [
      "<class 'pandas.core.frame.DataFrame'>\n",
      "RangeIndex: 103886 entries, 0 to 103885\n",
      "Data columns (total 5 columns):\n",
      " #   Column                Non-Null Count   Dtype  \n",
      "---  ------                --------------   -----  \n",
      " 0   order_id              103886 non-null  object \n",
      " 1   payment_sequential    103886 non-null  int64  \n",
      " 2   payment_type          103886 non-null  object \n",
      " 3   payment_installments  103886 non-null  int64  \n",
      " 4   payment_value         103886 non-null  float64\n",
      "dtypes: float64(1), int64(2), object(2)\n",
      "memory usage: 4.0+ MB\n",
      "None\n",
      "\n",
      "NA's present in the DF per column:\n",
      "\n",
      "order_id                0\n",
      "payment_sequential      0\n",
      "payment_type            0\n",
      "payment_installments    0\n",
      "payment_value           0\n",
      "dtype: int64\n"
     ]
    },
    {
     "data": {
      "text/plain": [
       "'There are 0 duplicated rows'"
      ]
     },
     "metadata": {},
     "output_type": "display_data"
    },
    {
     "data": {
      "text/plain": [
       "'The shape of the DF is (103886, 5)'"
      ]
     },
     "metadata": {},
     "output_type": "display_data"
    }
   ],
   "source": [
    "data_overview(df_payments)"
   ]
  },
  {
   "cell_type": "code",
   "execution_count": 14,
   "id": "1ebb1db5",
   "metadata": {},
   "outputs": [
    {
     "ename": "SyntaxError",
     "evalue": "invalid syntax (3789416559.py, line 1)",
     "output_type": "error",
     "traceback": [
      "\u001b[0;36m  Cell \u001b[0;32mIn[14], line 1\u001b[0;36m\u001b[0m\n\u001b[0;31m    No cleaning necessary for df_payments.\u001b[0m\n\u001b[0m       ^\u001b[0m\n\u001b[0;31mSyntaxError\u001b[0m\u001b[0;31m:\u001b[0m invalid syntax\n"
     ]
    }
   ],
   "source": [
    "No cleaning necessary for df_payments."
   ]
  },
  {
   "cell_type": "code",
   "execution_count": null,
   "id": "0728d4cf",
   "metadata": {
    "scrolled": true
   },
   "outputs": [],
   "source": [
    "data_overview(df_product_English)"
   ]
  },
  {
   "cell_type": "code",
   "execution_count": null,
   "id": "78995be0",
   "metadata": {},
   "outputs": [],
   "source": [
    "No cleaning necessary for df_product_English."
   ]
  },
  {
   "cell_type": "code",
   "execution_count": null,
   "id": "e698e3b6",
   "metadata": {
    "scrolled": true
   },
   "outputs": [],
   "source": [
    "data_overview(df_products)\n"
   ]
  },
  {
   "cell_type": "code",
   "execution_count": null,
   "id": "bbf9b9e6",
   "metadata": {
    "scrolled": true
   },
   "outputs": [],
   "source": [
    "df_products.isna().sum().value_counts "
   ]
  },
  {
   "cell_type": "markdown",
   "id": "03e2dba9",
   "metadata": {},
   "source": [
    "There is a significant number of missing values in df_products, I will not any of these columns besides `product_category_name` for my analysis and modeling so I will drop the others."
   ]
  },
  {
   "cell_type": "code",
   "execution_count": null,
   "id": "1be12a05",
   "metadata": {},
   "outputs": [],
   "source": [
    "#Dropping columns\n",
    "df_products = df_products.drop(['product_name_lenght', 'product_description_lenght','product_photos_qty','product_weight_g','product_length_cm','product_height_cm','product_width_cm'], axis=1)"
   ]
  },
  {
   "cell_type": "code",
   "execution_count": null,
   "id": "ec3ca315",
   "metadata": {},
   "outputs": [],
   "source": [
    "na = df_products[df_products['product_category_name'].isna()] # Create a DataFrame with Na values "
   ]
  },
  {
   "cell_type": "code",
   "execution_count": null,
   "id": "39eaab68",
   "metadata": {
    "scrolled": true
   },
   "outputs": [],
   "source": [
    "na.groupby('product_id')[['product_category_name']].sum() #Display"
   ]
  },
  {
   "cell_type": "code",
   "execution_count": null,
   "id": "75aa6515",
   "metadata": {},
   "outputs": [],
   "source": [
    "df_products['product_category_name'].nunique"
   ]
  },
  {
   "cell_type": "markdown",
   "id": "81d1b621",
   "metadata": {},
   "source": [
    "All the 610 na values in the `product_category_name` column are unique products, as all 32951 `product_id`'s are unique. So I will not be able to locate the corresponding `product_category_name` in the df. Therfeore I will not be addressing the Na values in the `product_category_name` as I have no direct mapping. I will not be dropping the column as I will be using it for analysis and modelling."
   ]
  },
  {
   "cell_type": "code",
   "execution_count": null,
   "id": "7f0bc9d9",
   "metadata": {},
   "outputs": [],
   "source": [
    "data_overview(df_sellers)"
   ]
  },
  {
   "cell_type": "code",
   "execution_count": null,
   "id": "d9aef7e9",
   "metadata": {
    "scrolled": true
   },
   "outputs": [],
   "source": [
    "data_overview(df_items)"
   ]
  },
  {
   "cell_type": "code",
   "execution_count": null,
   "id": "791e48e0",
   "metadata": {},
   "outputs": [],
   "source": [
    "No cleaning necessary for df_items."
   ]
  },
  {
   "cell_type": "code",
   "execution_count": null,
   "id": "75d94bbd",
   "metadata": {
    "scrolled": true
   },
   "outputs": [],
   "source": [
    "data_overview(df_reviews)"
   ]
  },
  {
   "cell_type": "markdown",
   "id": "df685c61",
   "metadata": {},
   "source": [
    "df_reviews has a significant number of missing values, I will not need these columns for analysis or modeling so I will drop them."
   ]
  },
  {
   "cell_type": "code",
   "execution_count": null,
   "id": "9d9dd9e4",
   "metadata": {},
   "outputs": [],
   "source": [
    "df_reviews = df_reviews.drop(['review_comment_title', 'review_comment_message'], axis=1)"
   ]
  },
  {
   "cell_type": "markdown",
   "id": "df250167",
   "metadata": {},
   "source": [
    "#### The dataFrames are now ready for EDA"
   ]
  },
  {
   "cell_type": "code",
   "execution_count": null,
   "id": "6798bd3f",
   "metadata": {},
   "outputs": [],
   "source": [
    "#Export Clean Dataset \n",
    "\n",
    "joblib.dump(df_customer,'data/Clean/customer_clean.pkl')\n",
    "joblib.dump(df_geo,'data/Clean/geo_clean.pkl')\n",
    "joblib.dump(df_items,'data/Clean/items_clean.pkl')\n",
    "joblib.dump(df_main,'data/Clean/main_clean.pkl')\n",
    "joblib.dump(df_products,'data/Clean/products_clean.pkl')\n",
    "joblib.dump(df_payments,'data/Clean/payments_clean.pkl')\n",
    "joblib.dump(df_sellers,'data/Clean/sellers_clean.pkl')\n",
    "joblib.dump(df_reviews,'data/Clean/reviews_clean.pkl')\n",
    "joblib.dump(df_product_English,'data/Clean/product_english_clean.pkl')\n"
   ]
  },
  {
   "cell_type": "code",
   "execution_count": null,
   "id": "3f4fedec",
   "metadata": {},
   "outputs": [],
   "source": []
  }
 ],
 "metadata": {
  "kernelspec": {
   "display_name": "bigdata_ml",
   "language": "python",
   "name": "bigdata_ml"
  },
  "language_info": {
   "codemirror_mode": {
    "name": "ipython",
    "version": 3
   },
   "file_extension": ".py",
   "mimetype": "text/x-python",
   "name": "python",
   "nbconvert_exporter": "python",
   "pygments_lexer": "ipython3",
   "version": "3.8.16"
  }
 },
 "nbformat": 4,
 "nbformat_minor": 5
}
